{
 "cells": [
  {
   "cell_type": "code",
   "execution_count": 2,
   "metadata": {},
   "outputs": [
    {
     "name": "stdout",
     "output_type": "stream",
     "text": [
      "Collecting matplotlib\n",
      "  Downloading matplotlib-3.3.1-cp37-cp37m-manylinux1_x86_64.whl (11.6 MB)\n",
      "\u001b[K     |████████████████████████████████| 11.6 MB 3.3 MB/s eta 0:00:01\n",
      "\u001b[?25hCollecting cycler>=0.10\n",
      "  Downloading cycler-0.10.0-py2.py3-none-any.whl (6.5 kB)\n",
      "Collecting pillow>=6.2.0\n",
      "  Downloading Pillow-7.2.0-cp37-cp37m-manylinux1_x86_64.whl (2.2 MB)\n",
      "\u001b[K     |████████████████████████████████| 2.2 MB 66.3 MB/s eta 0:00:01\n",
      "\u001b[?25hRequirement already satisfied: pyparsing!=2.0.4,!=2.1.2,!=2.1.6,>=2.0.3 in /srv/conda/envs/notebook/lib/python3.7/site-packages (from matplotlib) (2.4.7)\n",
      "Collecting kiwisolver>=1.0.1\n",
      "  Downloading kiwisolver-1.2.0-cp37-cp37m-manylinux1_x86_64.whl (88 kB)\n",
      "\u001b[K     |████████████████████████████████| 88 kB 10.6 MB/s eta 0:00:01\n",
      "\u001b[?25hRequirement already satisfied: python-dateutil>=2.1 in /srv/conda/envs/notebook/lib/python3.7/site-packages (from matplotlib) (2.8.1)\n",
      "Requirement already satisfied: certifi>=2020.06.20 in /srv/conda/envs/notebook/lib/python3.7/site-packages (from matplotlib) (2020.6.20)\n",
      "Requirement already satisfied: numpy>=1.15 in /srv/conda/envs/notebook/lib/python3.7/site-packages (from matplotlib) (1.19.1)\n",
      "Requirement already satisfied: six in /srv/conda/envs/notebook/lib/python3.7/site-packages (from cycler>=0.10->matplotlib) (1.15.0)\n",
      "Installing collected packages: cycler, pillow, kiwisolver, matplotlib\n",
      "Successfully installed cycler-0.10.0 kiwisolver-1.2.0 matplotlib-3.3.1 pillow-7.2.0\n"
     ]
    }
   ],
   "source": [
    "import pandas as pd \n",
    "\n",
    "import numpy as np \n",
    "\n",
    "import nbinteract as nbi \n",
    "\n",
    "!pip install matplotlib\n",
    "\n",
    "import matplotlib.pyplot as plt "
   ]
  },
  {
   "cell_type": "code",
   "execution_count": 3,
   "metadata": {},
   "outputs": [
    {
     "name": "stdout",
     "output_type": "stream",
     "text": [
      "               Timestamp  Toilet_Rating\n",
      "0    2020-03-26 16:27:42              4\n",
      "1    2020-03-26 16:27:55              3\n",
      "2    2020-03-26 16:30:19              4\n",
      "3    2020-03-26 16:34:41              4\n",
      "4    2020-03-26 16:34:55              4\n",
      "..                   ...            ...\n",
      "162  2020-08-27 16:41:58              2\n",
      "163  2020-08-27 16:48:03              3\n",
      "164  2020-08-27 16:48:15              3\n",
      "165  2020-08-27 16:48:30              4\n",
      "166  2020-08-27 16:48:40              3\n",
      "\n",
      "[167 rows x 2 columns]\n"
     ]
    }
   ],
   "source": [
    "googleSheetId = '<1jSYbnTKn0L4Drz-Gg2KQkXMIxozxSORAF2IcJLLrsLw>' \n",
    "\n",
    "#worksheetName = '<DashboardData>' \n",
    "\n",
    "#URL = 'https://docs.google.com/spreadsheets/d/{0}/gviz/tq?tqx=out:csv&sheet={1}'.format( \n",
    "\n",
    "URL = 'https://docs.google.com/spreadsheets/d/e/2PACX-1vQ3TAe35Q0eE-RhbcNa-NmABWbf0C16ZkNcZSAZFYBdzeg3e9s7cSMUpwvb-013b8xaGOevNQGMsboT/pub?gid=824764791&single=true&output=csv'.format( \n",
    "\n",
    "    googleSheetId, \n",
    "\n",
    "#    worksheetName \n",
    "\n",
    ") \n",
    "\n",
    "  \n",
    "\n",
    "df = pd.read_csv(URL) \n",
    "\n",
    "print(df) \n",
    "\n",
    "  \n",
    "\n",
    " \n",
    "\n",
    "# https://docs.google.com/spreadsheets/d/e/2PACX-1vTha-vlmWoALxqaTaSOwRIeOO2CAb5TgMgesuEodv-p4KgOdpd3aHKYe1p0upOdL_kQ6xGz3w6FX3ur/pub?output=csv \n",
    "\n",
    "# https://docs.google.com/spreadsheets/d/1IFrOaoIEpPMz6kbeDmypcLgCGAoOyrr4-OgztHG7rM0/edit?usp=sharing "
   ]
  },
  {
   "cell_type": "code",
   "execution_count": null,
   "metadata": {},
   "outputs": [],
   "source": []
  }
 ],
 "metadata": {
  "kernelspec": {
   "display_name": "Python 3",
   "language": "python",
   "name": "python3"
  },
  "language_info": {
   "codemirror_mode": {
    "name": "ipython",
    "version": 3
   },
   "file_extension": ".py",
   "mimetype": "text/x-python",
   "name": "python",
   "nbconvert_exporter": "python",
   "pygments_lexer": "ipython3",
   "version": "3.7.8"
  }
 },
 "nbformat": 4,
 "nbformat_minor": 4
}
