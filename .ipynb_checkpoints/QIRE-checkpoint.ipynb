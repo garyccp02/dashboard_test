{
 "cells": [
  {
   "cell_type": "code",
   "execution_count": 17,
   "metadata": {},
   "outputs": [
    {
     "name": "stdout",
     "output_type": "stream",
     "text": [
      "Requirement already satisfied: matplotlib in /srv/conda/envs/notebook/lib/python3.7/site-packages (3.3.1)\n",
      "Requirement already satisfied: pyparsing!=2.0.4,!=2.1.2,!=2.1.6,>=2.0.3 in /srv/conda/envs/notebook/lib/python3.7/site-packages (from matplotlib) (2.4.7)\n",
      "Requirement already satisfied: certifi>=2020.06.20 in /srv/conda/envs/notebook/lib/python3.7/site-packages (from matplotlib) (2020.6.20)\n",
      "Requirement already satisfied: python-dateutil>=2.1 in /srv/conda/envs/notebook/lib/python3.7/site-packages (from matplotlib) (2.8.1)\n",
      "Requirement already satisfied: numpy>=1.15 in /srv/conda/envs/notebook/lib/python3.7/site-packages (from matplotlib) (1.19.1)\n",
      "Requirement already satisfied: cycler>=0.10 in /srv/conda/envs/notebook/lib/python3.7/site-packages (from matplotlib) (0.10.0)\n",
      "Requirement already satisfied: pillow>=6.2.0 in /srv/conda/envs/notebook/lib/python3.7/site-packages (from matplotlib) (7.2.0)\n",
      "Requirement already satisfied: kiwisolver>=1.0.1 in /srv/conda/envs/notebook/lib/python3.7/site-packages (from matplotlib) (1.2.0)\n",
      "Requirement already satisfied: six>=1.5 in /srv/conda/envs/notebook/lib/python3.7/site-packages (from python-dateutil>=2.1->matplotlib) (1.15.0)\n",
      "Requirement already satisfied: mpld3 in /srv/conda/envs/notebook/lib/python3.7/site-packages (0.5.1)\n",
      "Requirement already satisfied: matplotlib in /srv/conda/envs/notebook/lib/python3.7/site-packages (from mpld3) (3.3.1)\n",
      "Requirement already satisfied: jinja2 in /srv/conda/envs/notebook/lib/python3.7/site-packages (from mpld3) (2.11.2)\n",
      "Requirement already satisfied: numpy>=1.15 in /srv/conda/envs/notebook/lib/python3.7/site-packages (from matplotlib->mpld3) (1.19.1)\n",
      "Requirement already satisfied: python-dateutil>=2.1 in /srv/conda/envs/notebook/lib/python3.7/site-packages (from matplotlib->mpld3) (2.8.1)\n",
      "Requirement already satisfied: kiwisolver>=1.0.1 in /srv/conda/envs/notebook/lib/python3.7/site-packages (from matplotlib->mpld3) (1.2.0)\n",
      "Requirement already satisfied: certifi>=2020.06.20 in /srv/conda/envs/notebook/lib/python3.7/site-packages (from matplotlib->mpld3) (2020.6.20)\n",
      "Requirement already satisfied: pyparsing!=2.0.4,!=2.1.2,!=2.1.6,>=2.0.3 in /srv/conda/envs/notebook/lib/python3.7/site-packages (from matplotlib->mpld3) (2.4.7)\n",
      "Requirement already satisfied: pillow>=6.2.0 in /srv/conda/envs/notebook/lib/python3.7/site-packages (from matplotlib->mpld3) (7.2.0)\n",
      "Requirement already satisfied: cycler>=0.10 in /srv/conda/envs/notebook/lib/python3.7/site-packages (from matplotlib->mpld3) (0.10.0)\n",
      "Requirement already satisfied: MarkupSafe>=0.23 in /srv/conda/envs/notebook/lib/python3.7/site-packages (from jinja2->mpld3) (1.1.1)\n",
      "Requirement already satisfied: six>=1.5 in /srv/conda/envs/notebook/lib/python3.7/site-packages (from python-dateutil>=2.1->matplotlib->mpld3) (1.15.0)\n"
     ]
    }
   ],
   "source": [
    "import pandas as pd \n",
    "\n",
    "import numpy as np \n",
    "\n",
    "import nbinteract as nbi \n",
    "\n",
    "!pip install matplotlib\n",
    "#!pip install mpld3\n",
    "\n",
    "import matplotlib.pyplot as plt \n",
    "\n",
    "import mpld3\n"
   ]
  },
  {
   "cell_type": "code",
   "execution_count": 18,
   "metadata": {},
   "outputs": [
    {
     "name": "stdout",
     "output_type": "stream",
     "text": [
      "               Timestamp  Toilet_Rating\n",
      "0    2020-03-26 16:27:42              4\n",
      "1    2020-03-26 16:27:55              3\n",
      "2    2020-03-26 16:30:19              4\n",
      "3    2020-03-26 16:34:41              4\n",
      "4    2020-03-26 16:34:55              4\n",
      "..                   ...            ...\n",
      "162  2020-08-27 16:41:58              2\n",
      "163  2020-08-27 16:48:03              3\n",
      "164  2020-08-27 16:48:15              3\n",
      "165  2020-08-27 16:48:30              4\n",
      "166  2020-08-27 16:48:40              3\n",
      "\n",
      "[167 rows x 2 columns]\n"
     ]
    }
   ],
   "source": [
    "googleSheetId = '<1jSYbnTKn0L4Drz-Gg2KQkXMIxozxSORAF2IcJLLrsLw>' \n",
    "\n",
    "#worksheetName = '<DashboardData>' \n",
    "\n",
    "#URL = 'https://docs.google.com/spreadsheets/d/{0}/gviz/tq?tqx=out:csv&sheet={1}'.format( \n",
    "\n",
    "URL = 'https://docs.google.com/spreadsheets/d/e/2PACX-1vQ3TAe35Q0eE-RhbcNa-NmABWbf0C16ZkNcZSAZFYBdzeg3e9s7cSMUpwvb-013b8xaGOevNQGMsboT/pub?gid=824764791&single=true&output=csv'.format( \n",
    "\n",
    "    googleSheetId, \n",
    "\n",
    "#    worksheetName \n",
    "\n",
    ") \n",
    "\n",
    "  \n",
    "\n",
    "df = pd.read_csv(URL)  \n",
    "\n",
    " \n",
    "\n",
    "# https://docs.google.com/spreadsheets/d/e/2PACX-1vTha-vlmWoALxqaTaSOwRIeOO2CAb5TgMgesuEodv-p4KgOdpd3aHKYe1p0upOdL_kQ6xGz3w6FX3ur/pub?output=csv \n",
    "\n",
    "# https://docs.google.com/spreadsheets/d/1IFrOaoIEpPMz6kbeDmypcLgCGAoOyrr4-OgztHG7rM0/edit?usp=sharing "
   ]
  },
  {
   "cell_type": "code",
   "execution_count": 19,
   "metadata": {},
   "outputs": [],
   "source": [
    "np1 = df.to_numpy() \n",
    "allToiletRatings = (np1[ : , 1] ) \n",
    "unique_elements, counts_elements = np.unique(allToiletRatings, return_counts=True)"
   ]
  },
  {
   "cell_type": "code",
   "execution_count": 28,
   "metadata": {},
   "outputs": [
    {
     "data": {
      "image/png": "[encoded data removed]",
      "text/plain": [
       "<Figure size 432x288 with 1 Axes>"
      ]
     },
     "metadata": {},
     "output_type": "display_data"
    }
   ],
   "source": [
    "exploded = (0.1, 0.1, 0.1, 0.1) \n",
    "fig1, ax1 = plt.subplots()\n",
    "ax1.pie(counts_elements, explode = exploded, labels=unique_elements, autopct='%1.1f%%',\n",
    "        shadow=True, startangle=90)\n",
    "ax1.axis('equal')  # Equal aspect ratio ensures that pie is drawn as a circle.\n",
    "\n",
    "plt.show()"
   ]
  },
  {
   "cell_type": "code",
   "execution_count": 36,
   "metadata": {},
   "outputs": [],
   "source": [
    "#import matplotlib.pyplot as plt, mpld3\n",
    "#from mpld3 import plugins\n",
    "\n",
    "#def genHTML():\n",
    "#\treturn mpld3.save_html(fig1) \n",
    "\n",
    "#genHTML()"
   ]
  },
  {
   "cell_type": "code",
   "execution_count": null,
   "metadata": {},
   "outputs": [],
   "source": []
  }
 ],
 "metadata": {
  "kernelspec": {
   "display_name": "Python 3",
   "language": "python",
   "name": "python3"
  },
  "language_info": {
   "codemirror_mode": {
    "name": "ipython",
    "version": 3
   },
   "file_extension": ".py",
   "mimetype": "text/x-python",
   "name": "python",
   "nbconvert_exporter": "python",
   "pygments_lexer": "ipython3",
   "version": "3.7.8"
  }
 },
 "nbformat": 4,
 "nbformat_minor": 4
}
