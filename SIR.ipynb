{
 "cells": [
  {
   "cell_type": "code",
   "execution_count": 1,
   "metadata": {},
   "outputs": [
    {
     "name": "stdout",
     "output_type": "stream",
     "text": [
      "Requirement already satisfied: matplotlib in /srv/conda/envs/notebook/lib/python3.7/site-packages (3.3.1)\n",
      "Requirement already satisfied: pillow>=6.2.0 in /srv/conda/envs/notebook/lib/python3.7/site-packages (from matplotlib) (7.2.0)\n",
      "Requirement already satisfied: cycler>=0.10 in /srv/conda/envs/notebook/lib/python3.7/site-packages (from matplotlib) (0.10.0)\n",
      "Requirement already satisfied: python-dateutil>=2.1 in /srv/conda/envs/notebook/lib/python3.7/site-packages (from matplotlib) (2.8.1)\n",
      "Requirement already satisfied: numpy>=1.15 in /srv/conda/envs/notebook/lib/python3.7/site-packages (from matplotlib) (1.19.1)\n",
      "Requirement already satisfied: pyparsing!=2.0.4,!=2.1.2,!=2.1.6,>=2.0.3 in /srv/conda/envs/notebook/lib/python3.7/site-packages (from matplotlib) (2.4.7)\n",
      "Requirement already satisfied: certifi>=2020.06.20 in /srv/conda/envs/notebook/lib/python3.7/site-packages (from matplotlib) (2020.6.20)\n",
      "Requirement already satisfied: kiwisolver>=1.0.1 in /srv/conda/envs/notebook/lib/python3.7/site-packages (from matplotlib) (1.2.0)\n",
      "Requirement already satisfied: six in /srv/conda/envs/notebook/lib/python3.7/site-packages (from cycler>=0.10->matplotlib) (1.15.0)\n"
     ]
    }
   ],
   "source": [
    "import pandas as pd \n",
    "\n",
    "import numpy as np \n",
    "\n",
    "import nbinteract as nbi \n",
    "\n",
    "!pip install matplotlib\n",
    "\n",
    "import matplotlib.pyplot as plt "
   ]
  },
  {
   "cell_type": "code",
   "execution_count": 2,
   "metadata": {},
   "outputs": [
    {
     "name": "stdout",
     "output_type": "stream",
     "text": [
      "               Timestamp  Toilet_Rating\n",
      "0    2020-03-26 16:27:42              4\n",
      "1    2020-03-26 16:27:55              3\n",
      "2    2020-03-26 16:30:19              4\n",
      "3    2020-03-26 16:34:41              4\n",
      "4    2020-03-26 16:34:55              4\n",
      "..                   ...            ...\n",
      "162  2020-08-27 16:41:58              2\n",
      "163  2020-08-27 16:48:03              3\n",
      "164  2020-08-27 16:48:15              3\n",
      "165  2020-08-27 16:48:30              4\n",
      "166  2020-08-27 16:48:40              3\n",
      "\n",
      "[167 rows x 2 columns]\n"
     ]
    }
   ],
   "source": [
    "googleSheetId = '<1jSYbnTKn0L4Drz-Gg2KQkXMIxozxSORAF2IcJLLrsLw>' \n",
    "\n",
    "#worksheetName = '<DashboardData>' \n",
    "\n",
    "#URL = 'https://docs.google.com/spreadsheets/d/{0}/gviz/tq?tqx=out:csv&sheet={1}'.format( \n",
    "\n",
    "URL = 'https://docs.google.com/spreadsheets/d/e/2PACX-1vQ3TAe35Q0eE-RhbcNa-NmABWbf0C16ZkNcZSAZFYBdzeg3e9s7cSMUpwvb-013b8xaGOevNQGMsboT/pub?gid=824764791&single=true&output=csv'.format( \n",
    "\n",
    "    googleSheetId, \n",
    "\n",
    "#    worksheetName \n",
    "\n",
    ") \n",
    "\n",
    "  \n",
    "\n",
    "df = pd.read_csv(URL) \n",
    "\n",
    "print(df) \n",
    "\n",
    "  \n",
    "\n",
    " \n",
    "\n",
    "# https://docs.google.com/spreadsheets/d/e/2PACX-1vTha-vlmWoALxqaTaSOwRIeOO2CAb5TgMgesuEodv-p4KgOdpd3aHKYe1p0upOdL_kQ6xGz3w6FX3ur/pub?output=csv \n",
    "\n",
    "# https://docs.google.com/spreadsheets/d/1IFrOaoIEpPMz6kbeDmypcLgCGAoOyrr4-OgztHG7rM0/edit?usp=sharing "
   ]
  },
  {
   "cell_type": "code",
   "execution_count": 3,
   "metadata": {},
   "outputs": [
    {
     "name": "stdout",
     "output_type": "stream",
     "text": [
      "[['2020-03-26 16:27:42' 4]\n",
      " ['2020-03-26 16:27:55' 3]\n",
      " ['2020-03-26 16:30:19' 4]\n",
      " ['2020-03-26 16:34:41' 4]\n",
      " ['2020-03-26 16:34:55' 4]\n",
      " ['2020-03-26 16:51:37' 3]\n",
      " ['2020-03-27 09:56:33' 4]\n",
      " ['2020-03-27 09:57:01' 3]\n",
      " ['2020-03-27 09:57:15' 5]\n",
      " ['2020-03-27 09:57:35' 4]\n",
      " ['2020-03-27 09:57:53' 4]\n",
      " ['2020-03-27 09:58:12' 4]\n",
      " ['2020-03-27 09:58:26' 4]\n",
      " ['2020-03-27 09:58:41' 5]\n",
      " ['2020-03-27 09:58:51' 5]\n",
      " ['2020-03-27 09:59:02' 4]\n",
      " ['2020-03-27 09:59:16' 5]\n",
      " ['2020-04-02 17:16:39' 4]\n",
      " ['2020-04-02 17:17:15' 4]\n",
      " ['2020-04-02 17:17:34' 3]\n",
      " ['2020-04-02 17:29:58' 4]\n",
      " ['2020-04-08 13:21:44' 4]\n",
      " ['2020-04-08 13:22:00' 3]\n",
      " ['2020-04-08 13:24:03' 3]\n",
      " ['2020-04-08 13:24:18' 4]\n",
      " ['2020-04-08 13:24:33' 4]\n",
      " ['2020-04-08 13:24:47' 5]\n",
      " ['2020-04-08 13:25:02' 4]\n",
      " ['2020-04-16 16:42:01' 4]\n",
      " ['2020-04-16 16:42:14' 4]\n",
      " ['2020-04-16 16:42:27' 5]\n",
      " ['2020-04-16 16:43:07' 4]\n",
      " ['2020-04-23 17:1:30' 4]\n",
      " ['2020-04-23 17:2:32' 4]\n",
      " ['2020-04-23 17:8:31' 4]\n",
      " ['2020-04-23 17:9:01' 4]\n",
      " ['2020-04-23 17:11:54' 3]\n",
      " ['2020-05-07 14:44:50' 4]\n",
      " ['2020-05-07 15:0:00' 4]\n",
      " ['2020-05-07 15:0:12' 5]\n",
      " ['2020-05-07 15:5:32' 4]\n",
      " ['2020-05-14 16:18:58' 4]\n",
      " ['2020-05-14 16:20:52' 3]\n",
      " ['2020-05-14 16:23:50' 4]\n",
      " ['2020-05-14 16:33:22' 4]\n",
      " ['2020-05-14 16:33:35' 4]\n",
      " ['2020-05-14 16:33:51' 4]\n",
      " ['2020-05-14 16:35:00' 4]\n",
      " ['2020-05-14 16:35:13' 3]\n",
      " ['2020-05-21 16:1:01' 4]\n",
      " ['2020-05-21 16:1:14' 4]\n",
      " ['2020-05-21 16:1:25' 4]\n",
      " ['2020-05-21 16:1:40' 3]\n",
      " ['2020-05-21 16:5:46' 4]\n",
      " ['2020-05-21 16:5:59' 5]\n",
      " ['2020-05-28 16:19:48' 4]\n",
      " ['2020-05-28 16:21:07' 4]\n",
      " ['2020-05-28 16:21:24' 4]\n",
      " ['2020-05-28 17:29:23' 4]\n",
      " ['2020-05-28 17:29:39' 4]\n",
      " ['2020-05-28 17:29:52' 4]\n",
      " ['2020-05-28 17:30:06' 4]\n",
      " ['2020-06-04 09:41:16' 4]\n",
      " ['2020-06-04 10:7:52' 3]\n",
      " ['2020-06-04 10:41:13' 3]\n",
      " ['2020-06-04 12:5:37' 5]\n",
      " ['2020-06-04 12:5:48' 4]\n",
      " ['2020-06-04 12:5:58' 4]\n",
      " ['2020-06-11 15:5:16' 4]\n",
      " ['2020-06-11 15:6:09' 3]\n",
      " ['2020-06-11 15:6:25' 4]\n",
      " ['2020-06-11 15:6:37' 4]\n",
      " ['2020-06-11 15:6:49' 4]\n",
      " ['2020-06-11 15:7:06' 4]\n",
      " ['2020-06-11 15:7:34' 4]\n",
      " ['2020-06-11 15:8:32' 3]\n",
      " ['2020-06-11 15:8:43' 3]\n",
      " ['2020-06-11 15:8:52' 4]\n",
      " ['2020-06-18 15:41:49' 4]\n",
      " ['2020-06-18 15:42:01' 4]\n",
      " ['2020-06-18 15:43:41' 4]\n",
      " ['2020-06-18 15:43:52' 4]\n",
      " ['2020-06-18 15:44:02' 4]\n",
      " ['2020-06-18 15:44:12' 4]\n",
      " ['2020-06-18 15:44:25' 4]\n",
      " ['2020-06-18 15:44:35' 4]\n",
      " ['2020-06-18 15:44:47' 5]\n",
      " ['2020-06-18 15:44:57' 4]\n",
      " ['2020-07-09 14:53:13' 4]\n",
      " ['2020-07-09 15:0:56' 3]\n",
      " ['2020-07-09 15:15:26' 4]\n",
      " ['2020-07-09 15:19:29' 4]\n",
      " ['2020-07-16 14:38:47' 4]\n",
      " ['2020-07-16 14:39:00' 4]\n",
      " ['2020-07-16 14:39:41' 4]\n",
      " ['2020-07-16 14:50:09' 4]\n",
      " ['2020-07-16 14:50:21' 4]\n",
      " ['2020-07-16 14:50:33' 5]\n",
      " ['2020-07-16 14:50:48' 4]\n",
      " ['2020-07-16 14:51:11' 3]\n",
      " ['2020-07-16 14:51:21' 4]\n",
      " ['2020-07-16 14:51:31' 4]\n",
      " ['2020-07-21 15:38:08' 4]\n",
      " ['2020-07-21 15:38:17' 4]\n",
      " ['2020-07-21 15:52:33' 3]\n",
      " ['2020-07-22 17:37:28' 4]\n",
      " ['2020-07-22 17:37:43' 4]\n",
      " ['2020-07-22 17:37:58' 4]\n",
      " ['2020-07-23 14:5:54' 4]\n",
      " ['2020-07-23 14:8:13' 4]\n",
      " ['2020-07-23 14:8:24' 4]\n",
      " ['2020-07-23 15:28:12' 4]\n",
      " ['2020-07-27 17:17:07' 3]\n",
      " ['2020-07-27 17:17:17' 4]\n",
      " ['2020-07-27 17:17:27' 4]\n",
      " ['2020-07-27 17:17:38' 3]\n",
      " ['2020-07-28 17:2:56' 3]\n",
      " ['2020-07-28 17:3:06' 3]\n",
      " ['2020-07-28 17:3:15' 4]\n",
      " ['2020-07-29 17:3:50' 4]\n",
      " ['2020-07-29 17:3:59' 3]\n",
      " ['2020-07-29 17:4:09' 3]\n",
      " ['2020-07-30 15:24:27' 3]\n",
      " ['2020-07-30 15:24:40' 4]\n",
      " ['2020-07-30 15:24:51' 4]\n",
      " ['2020-07-30 15:25:00' 3]\n",
      " ['2020-08-03 15:8:54' 4]\n",
      " ['2020-08-03 15:9:03' 3]\n",
      " ['2020-08-03 15:9:15' 3]\n",
      " ['2020-08-04 16:58:54' 3]\n",
      " ['2020-08-04 16:59:05' 3]\n",
      " ['2020-08-04 16:59:16' 4]\n",
      " ['2020-08-05 17:0:18' 4]\n",
      " ['2020-08-05 17:0:28' 3]\n",
      " ['2020-08-05 17:0:37' 3]\n",
      " ['2020-08-06 17:4:29' 3]\n",
      " ['2020-08-06 17:4:40' 3]\n",
      " ['2020-08-06 17:4:56' 4]\n",
      " ['2020-08-11 17:20:33' 3]\n",
      " ['2020-08-11 17:20:44' 4]\n",
      " ['2020-08-11 17:20:55' 3]\n",
      " ['2020-08-12 17:1:22' 4]\n",
      " ['2020-08-12 17:1:39' 4]\n",
      " ['2020-08-12 17:1:49' 3]\n",
      " ['2020-08-13 16:42:23' 4]\n",
      " ['2020-08-13 16:42:33' 3]\n",
      " ['2020-08-13 16:42:45' 4]\n",
      " ['2020-08-17 13:50:21' 4]\n",
      " ['2020-08-17 13:50:35' 3]\n",
      " ['2020-08-18 13:49:20' 4]\n",
      " ['2020-08-18 13:49:30' 3]\n",
      " ['2020-08-18 13:49:41' 4]\n",
      " ['2020-08-20 15:37:49' 4]\n",
      " ['2020-08-20 15:38:25' 4]\n",
      " ['2020-08-20 15:38:47' 3]\n",
      " ['2020-08-27 16:30:18' 4]\n",
      " ['2020-08-27 16:30:37' 3]\n",
      " ['2020-08-27 16:30:48' 4]\n",
      " ['2020-08-27 16:33:08' 3]\n",
      " ['2020-08-27 16:33:19' 4]\n",
      " ['2020-08-27 16:33:30' 4]\n",
      " ['2020-08-27 16:40:56' 3]\n",
      " ['2020-08-27 16:41:58' 2]\n",
      " ['2020-08-27 16:48:03' 3]\n",
      " ['2020-08-27 16:48:15' 3]\n",
      " ['2020-08-27 16:48:30' 4]\n",
      " ['2020-08-27 16:48:40' 3]]\n"
     ]
    }
   ],
   "source": [
    "np1 = df.to_numpy() \n",
    "\n",
    "print(np1) "
   ]
  },
  {
   "cell_type": "code",
   "execution_count": 4,
   "metadata": {
    "scrolled": false
   },
   "outputs": [
    {
     "data": {
      "image/png": "[encoded data removed]",
      "text/plain": [
       "<Figure size 432x288 with 1 Axes>"
      ]
     },
     "metadata": {},
     "output_type": "display_data"
    }
   ],
   "source": [
    "# Pie chart, where the slices will be ordered and plotted counter-clockwise:\n",
    "labels = 'Frogs', 'Hogs', 'Dogs', 'Logs'\n",
    "sizes = [15, 30, 45, 10]\n",
    "explode = (0, 0.1, 0, 0)  # only \"explode\" the 2nd slice (i.e. 'Hogs')\n",
    "\n",
    "fig1, ax1 = plt.subplots()\n",
    "ax1.pie(sizes, explode=explode, labels=labels, autopct='%1.1f%%',\n",
    "        shadow=True, startangle=90)\n",
    "ax1.axis('equal')  # Equal aspect ratio ensures that pie is drawn as a circle.\n",
    "\n",
    "plt.show()"
   ]
  },
  {
   "cell_type": "code",
   "execution_count": 6,
   "metadata": {},
   "outputs": [
    {
     "name": "stdout",
     "output_type": "stream",
     "text": [
      "[4 3 4 4 4 3 4 3 5 4 4 4 4 5 5 4 5 4 4 3 4 4 3 3 4 4 5 4 4 4 5 4 4 4 4 4 3\n",
      " 4 4 5 4 4 3 4 4 4 4 4 3 4 4 4 3 4 5 4 4 4 4 4 4 4 4 3 3 5 4 4 4 3 4 4 4 4\n",
      " 4 3 3 4 4 4 4 4 4 4 4 4 5 4 4 3 4 4 4 4 4 4 4 5 4 3 4 4 4 4 3 4 4 4 4 4 4\n",
      " 4 3 4 4 3 3 3 4 4 3 3 3 4 4 3 4 3 3 3 3 4 4 3 3 3 3 4 3 4 3 4 4 3 4 3 4 4\n",
      " 3 4 3 4 4 4 3 4 3 4 3 4 4 3 2 3 3 4 3]\n"
     ]
    }
   ],
   "source": [
    "allToiletRatings = (np1[ : , 1] ) \n",
    "print(allToiletRatings)"
   ]
  },
  {
   "cell_type": "code",
   "execution_count": 11,
   "metadata": {},
   "outputs": [
    {
     "name": "stdout",
     "output_type": "stream",
     "text": [
      "Frequency of unique values of the said array:\n",
      "[[2 3 4 5]\n",
      " [1 47 108 11]]\n"
     ]
    }
   ],
   "source": [
    "unique_elements, counts_elements = np.unique(allToiletRatings, return_counts=True)\n",
    "print(\"Frequency of unique values of the said array:\")\n",
    "print(np.asarray((unique_elements, counts_elements)))"
   ]
  },
  {
   "cell_type": "code",
   "execution_count": 23,
   "metadata": {},
   "outputs": [
    {
     "data": {
      "image/png": "[encoded data removed]",
      "text/plain": [
       "<Figure size 432x288 with 1 Axes>"
      ]
     },
     "metadata": {},
     "output_type": "display_data"
    }
   ],
   "source": [
    "exploded = (0.1, 0.1, 0.1, 0.1)  # only \"explode\" the 2nd slice (i.e. 'Hogs')\n",
    "fig1, ax1 = plt.subplots()\n",
    "ax1.pie(counts_elements, explode = exploded, labels=unique_elements, autopct='%1.1f%%',\n",
    "        shadow=True, startangle=90)\n",
    "ax1.axis('equal')  # Equal aspect ratio ensures that pie is drawn as a circle.\n",
    "\n",
    "plt.show()"
   ]
  },
  {
   "cell_type": "code",
   "execution_count": null,
   "metadata": {},
   "outputs": [],
   "source": []
  }
 ],
 "metadata": {
  "kernelspec": {
   "display_name": "Python 3",
   "language": "python",
   "name": "python3"
  },
  "language_info": {
   "codemirror_mode": {
    "name": "ipython",
    "version": 3
   },
   "file_extension": ".py",
   "mimetype": "text/x-python",
   "name": "python",
   "nbconvert_exporter": "python",
   "pygments_lexer": "ipython3",
   "version": "3.7.8"
  }
 },
 "nbformat": 4,
 "nbformat_minor": 4
}
